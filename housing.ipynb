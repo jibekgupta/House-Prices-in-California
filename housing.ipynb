{
 "cells": [
  {
   "cell_type": "markdown",
   "id": "576cf011-3abf-422e-8d00-6014fdc161d6",
   "metadata": {},
   "source": [
    "### Chapter 2 - END-TO-END MACHINE LEARNING PROJECT"
   ]
  },
  {
   "cell_type": "code",
   "execution_count": 1,
   "id": "5609414e-728a-4be9-af3e-8b5a1e79fb30",
   "metadata": {},
   "outputs": [],
   "source": [
    "import os\n",
    "import tarfile\n",
    "from six.moves import urllib"
   ]
  },
  {
   "cell_type": "code",
   "execution_count": 2,
   "id": "ee2ee96e-a719-41ce-b76a-1f5063af6d3f",
   "metadata": {},
   "outputs": [],
   "source": [
    "# URl and file path\n",
    "DOWNLOAD_ROOT = \"https://raw.githubusercontent.com/ageron/handson-ml/master/\"\n",
    "HOUSING_PATH = os.path.join('dataset','housing')\n",
    "HOUSING_URL = DOWNLOAD_ROOT + \"dataset/housing/housing.tgz\""
   ]
  },
  {
   "cell_type": "code",
   "execution_count": 3,
   "id": "fc02d11a-e5a8-4710-952c-d0f9ef0748b4",
   "metadata": {},
   "outputs": [],
   "source": [
    "# Load the data\n",
    "def fetch_housing_data(housing_url=HOUSING_URL, housing_path=HOUSING_PATH):\n",
    "    \n",
    "    # check for the directory, if not then create \n",
    "    if not os.path.isdir(housing_path):\n",
    "        os.makedirs(housing_path)\n",
    "\n",
    "    # Download the Dataset\n",
    "    if not os.path.exists(tgz_path):\n",
    "        print(f\"Downloading dataset from {housing_url}...\")\n",
    "        try:\n",
    "            urllib.request.urlretrieve(housing_url, tgz_path)\n",
    "            print(f\"Download dataset to {tgz_path}\")\n",
    "        except Exception as e:\n",
    "            print(f\"Failed to download file: {e}\")\n",
    "            return\n",
    "\n",
    "    # Extract the .tgz Archive\n",
    "    print(\"Extracting dataset...\")\n",
    "    try:\n",
    "        with tarfile.open(tgz_path) as housing_tgz:\n",
    "            housing_tgz.extractall(path=housing_path)\n",
    "        print(f\"Dataset extracted to {housing_path}\")\n",
    "    except Exception as e:\n",
    "        print(f\"Error extracting file: {e}\")\n",
    "    \n",
    "    "
   ]
  },
  {
   "cell_type": "code",
   "execution_count": null,
   "id": "6b33d03b-4a22-4374-be6a-efab42ed178c",
   "metadata": {},
   "outputs": [],
   "source": []
  }
 ],
 "metadata": {
  "kernelspec": {
   "display_name": "Python 3 (ipykernel)",
   "language": "python",
   "name": "python3"
  },
  "language_info": {
   "codemirror_mode": {
    "name": "ipython",
    "version": 3
   },
   "file_extension": ".py",
   "mimetype": "text/x-python",
   "name": "python",
   "nbconvert_exporter": "python",
   "pygments_lexer": "ipython3",
   "version": "3.12.5"
  }
 },
 "nbformat": 4,
 "nbformat_minor": 5
}
