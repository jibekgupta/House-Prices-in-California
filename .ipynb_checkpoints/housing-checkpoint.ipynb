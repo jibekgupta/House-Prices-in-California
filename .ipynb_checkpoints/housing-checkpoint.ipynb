{
 "cells": [
  {
   "cell_type": "markdown",
   "id": "576cf011-3abf-422e-8d00-6014fdc161d6",
   "metadata": {},
   "source": [
    "### Chapter 2 - END-TO-END MACHINE LEARNING PROJECT"
   ]
  },
  {
   "cell_type": "code",
   "execution_count": 2,
   "id": "c0ff32b8-0fd6-427b-a725-1e3a78dad021",
   "metadata": {},
   "outputs": [
    {
     "name": "stdout",
     "output_type": "stream",
     "text": [
      "pip 25.0.1 from C:\\Users\\Jibek\\AppData\\Roaming\\Python\\Python312\\site-packages\\pip (python 3.12)\n",
      "\n"
     ]
    }
   ],
   "source": [
    "!pip --version"
   ]
  },
  {
   "cell_type": "code",
   "execution_count": 3,
   "id": "21c054fe-9152-49e4-b614-0709602244f8",
   "metadata": {},
   "outputs": [
    {
     "name": "stdout",
     "output_type": "stream",
     "text": [
      "Defaulting to user installation because normal site-packages is not writeable\n",
      "Requirement already satisfied: pip in c:\\users\\jibek\\appdata\\roaming\\python\\python312\\site-packages (25.0.1)\n"
     ]
    }
   ],
   "source": [
    "!pip install --upgrade pip"
   ]
  },
  {
   "cell_type": "code",
   "execution_count": 4,
   "id": "0b153fcd-9bb3-4227-bb41-5d6078ea794e",
   "metadata": {},
   "outputs": [
    {
     "name": "stderr",
     "output_type": "stream",
     "text": [
      "ERROR: unknown command \"instal\" - maybe you meant \"install\"\n",
      "\n"
     ]
    }
   ],
   "source": [
    "!pip instal --user --upgrade virtualenv"
   ]
  },
  {
   "cell_type": "code",
   "execution_count": 5,
   "id": "38668bd1-0e58-4f0c-bd0a-e08afb1b7f0d",
   "metadata": {},
   "outputs": [
    {
     "name": "stdout",
     "output_type": "stream",
     "text": [
      "Requirement already satisfied: virtualenv in c:\\users\\jibek\\appdata\\roaming\\python\\python312\\site-packages (20.29.1)\n",
      "Collecting virtualenv\n",
      "  Downloading virtualenv-20.29.2-py3-none-any.whl.metadata (4.5 kB)\n",
      "Requirement already satisfied: distlib<1,>=0.3.7 in c:\\users\\jibek\\appdata\\roaming\\python\\python312\\site-packages (from virtualenv) (0.3.9)\n",
      "Requirement already satisfied: filelock<4,>=3.12.2 in c:\\users\\jibek\\appdata\\roaming\\python\\python312\\site-packages (from virtualenv) (3.17.0)\n",
      "Requirement already satisfied: platformdirs<5,>=3.9.1 in c:\\users\\jibek\\appdata\\roaming\\python\\python312\\site-packages (from virtualenv) (4.2.2)\n",
      "Downloading virtualenv-20.29.2-py3-none-any.whl (4.3 MB)\n",
      "   ---------------------------------------- 0.0/4.3 MB ? eta -:--:--\n",
      "   ---------------------------------------- 0.0/4.3 MB ? eta -:--:--\n",
      "   -- ------------------------------------- 0.3/4.3 MB ? eta -:--:--\n",
      "   -- ------------------------------------- 0.3/4.3 MB ? eta -:--:--\n",
      "   -- ------------------------------------- 0.3/4.3 MB ? eta -:--:--\n",
      "   ---- ----------------------------------- 0.5/4.3 MB 390.1 kB/s eta 0:00:10\n",
      "   ---- ----------------------------------- 0.5/4.3 MB 390.1 kB/s eta 0:00:10\n",
      "   ------- -------------------------------- 0.8/4.3 MB 508.5 kB/s eta 0:00:07\n",
      "   ------------ --------------------------- 1.3/4.3 MB 745.8 kB/s eta 0:00:05\n",
      "   ------------ --------------------------- 1.3/4.3 MB 745.8 kB/s eta 0:00:05\n",
      "   -------------- ------------------------- 1.6/4.3 MB 791.5 kB/s eta 0:00:04\n",
      "   -------------- ------------------------- 1.6/4.3 MB 791.5 kB/s eta 0:00:04\n",
      "   ----------------- ---------------------- 1.8/4.3 MB 694.4 kB/s eta 0:00:04\n",
      "   ----------------- ---------------------- 1.8/4.3 MB 694.4 kB/s eta 0:00:04\n",
      "   ----------------- ---------------------- 1.8/4.3 MB 694.4 kB/s eta 0:00:04\n",
      "   ----------------- ---------------------- 1.8/4.3 MB 694.4 kB/s eta 0:00:04\n",
      "   ----------------- ---------------------- 1.8/4.3 MB 694.4 kB/s eta 0:00:04\n",
      "   ------------------- -------------------- 2.1/4.3 MB 584.4 kB/s eta 0:00:04\n",
      "   ------------------- -------------------- 2.1/4.3 MB 584.4 kB/s eta 0:00:04\n",
      "   --------------------- ------------------ 2.4/4.3 MB 566.3 kB/s eta 0:00:04\n",
      "   --------------------- ------------------ 2.4/4.3 MB 566.3 kB/s eta 0:00:04\n",
      "   ------------------------ --------------- 2.6/4.3 MB 567.7 kB/s eta 0:00:03\n",
      "   ------------------------ --------------- 2.6/4.3 MB 567.7 kB/s eta 0:00:03\n",
      "   ------------------------ --------------- 2.6/4.3 MB 567.7 kB/s eta 0:00:03\n",
      "   ------------------------ --------------- 2.6/4.3 MB 567.7 kB/s eta 0:00:03\n",
      "   -------------------------- ------------- 2.9/4.3 MB 544.8 kB/s eta 0:00:03\n",
      "   -------------------------- ------------- 2.9/4.3 MB 544.8 kB/s eta 0:00:03\n",
      "   -------------------------- ------------- 2.9/4.3 MB 544.8 kB/s eta 0:00:03\n",
      "   -------------------------- ------------- 2.9/4.3 MB 544.8 kB/s eta 0:00:03\n",
      "   -------------------------- ------------- 2.9/4.3 MB 544.8 kB/s eta 0:00:03\n",
      "   -------------------------- ------------- 2.9/4.3 MB 544.8 kB/s eta 0:00:03\n",
      "   ----------------------------- ---------- 3.1/4.3 MB 467.2 kB/s eta 0:00:03\n",
      "   ----------------------------- ---------- 3.1/4.3 MB 467.2 kB/s eta 0:00:03\n",
      "   ----------------------------- ---------- 3.1/4.3 MB 467.2 kB/s eta 0:00:03\n",
      "   ----------------------------- ---------- 3.1/4.3 MB 467.2 kB/s eta 0:00:03\n",
      "   ------------------------------- -------- 3.4/4.3 MB 452.4 kB/s eta 0:00:02\n",
      "   ------------------------------- -------- 3.4/4.3 MB 452.4 kB/s eta 0:00:02\n",
      "   ------------------------------- -------- 3.4/4.3 MB 452.4 kB/s eta 0:00:02\n",
      "   ------------------------------- -------- 3.4/4.3 MB 452.4 kB/s eta 0:00:02\n",
      "   ---------------------------------- ----- 3.7/4.3 MB 437.1 kB/s eta 0:00:02\n",
      "   ---------------------------------- ----- 3.7/4.3 MB 437.1 kB/s eta 0:00:02\n",
      "   ------------------------------------ --- 3.9/4.3 MB 443.2 kB/s eta 0:00:01\n",
      "   ------------------------------------ --- 3.9/4.3 MB 443.2 kB/s eta 0:00:01\n",
      "   ------------------------------------ --- 3.9/4.3 MB 443.2 kB/s eta 0:00:01\n",
      "   ---------------------------------------  4.2/4.3 MB 440.0 kB/s eta 0:00:01\n",
      "   ---------------------------------------- 4.3/4.3 MB 439.7 kB/s eta 0:00:00\n",
      "Installing collected packages: virtualenv\n",
      "  Attempting uninstall: virtualenv\n",
      "    Found existing installation: virtualenv 20.29.1\n",
      "    Uninstalling virtualenv-20.29.1:\n",
      "      Successfully uninstalled virtualenv-20.29.1\n",
      "Successfully installed virtualenv-20.29.2\n"
     ]
    }
   ],
   "source": [
    "!pip install --user --upgrade virtualenv"
   ]
  },
  {
   "cell_type": "code",
   "execution_count": 6,
   "id": "7530295f-163b-4cbd-b467-3fb6f29669b6",
   "metadata": {},
   "outputs": [
    {
     "name": "stdout",
     "output_type": "stream",
     "text": [
      "created virtual environment CPython3.12.5.final.0-64 in 8653ms\n",
      "  creator CPython3Windows(dest=C:\\Users\\Jibek\\House_Price\\env, clear=False, no_vcs_ignore=False, global=False)\n",
      "  seeder FromAppData(download=False, pip=bundle, via=copy, app_data_dir=C:\\Users\\Jibek\\AppData\\Local\\pypa\\virtualenv)\n",
      "    added seed packages: pip==25.0\n",
      "  activators BashActivator,BatchActivator,FishActivator,NushellActivator,PowerShellActivator,PythonActivator\n"
     ]
    }
   ],
   "source": [
    "!virtualenv env"
   ]
  },
  {
   "cell_type": "code",
   "execution_count": 8,
   "id": "ef8c6e27-0aeb-4929-9707-bbed128c73bc",
   "metadata": {},
   "outputs": [],
   "source": [
    "!env\\Scripts\\activate"
   ]
  },
  {
   "cell_type": "code",
   "execution_count": null,
   "id": "0ba39bfd-bb92-4c64-b515-aec85d22514d",
   "metadata": {},
   "outputs": [],
   "source": [
    "!pip install --upgrade jupyter matplotlib numpy scipy scikit-learn\n",
    "print(\"Done\")"
   ]
  },
  {
   "cell_type": "code",
   "execution_count": null,
   "id": "5609414e-728a-4be9-af3e-8b5a1e79fb30",
   "metadata": {},
   "outputs": [],
   "source": []
  }
 ],
 "metadata": {
  "kernelspec": {
   "display_name": "Python 3 (ipykernel)",
   "language": "python",
   "name": "python3"
  },
  "language_info": {
   "codemirror_mode": {
    "name": "ipython",
    "version": 3
   },
   "file_extension": ".py",
   "mimetype": "text/x-python",
   "name": "python",
   "nbconvert_exporter": "python",
   "pygments_lexer": "ipython3",
   "version": "3.12.5"
  }
 },
 "nbformat": 4,
 "nbformat_minor": 5
}
